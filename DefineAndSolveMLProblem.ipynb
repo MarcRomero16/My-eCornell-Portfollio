{
 "cells": [
  {
   "cell_type": "markdown",
   "metadata": {},
   "source": [
    "# Lab 8: Define and Solve an ML Problem of Your Choosing"
   ]
  },
  {
   "cell_type": "code",
   "execution_count": 1,
   "metadata": {},
   "outputs": [],
   "source": [
    "import pandas as pd\n",
    "import numpy as np\n",
    "import os \n",
    "import matplotlib.pyplot as plt\n",
    "import seaborn as sns"
   ]
  },
  {
   "cell_type": "markdown",
   "metadata": {},
   "source": [
    "In this lab assignment, you will follow the machine learning life cycle and implement a model to solve a machine learning problem of your choosing. You will select a data set and choose a predictive problem that the data set supports.  You will then inspect the data with your problem in mind and begin to formulate a  project plan. You will then implement the machine learning project plan. \n",
    "\n",
    "You will complete the following tasks:\n",
    "\n",
    "1. Build Your DataFrame\n",
    "2. Define Your ML Problem\n",
    "3. Perform exploratory data analysis to understand your data.\n",
    "4. Define Your Project Plan\n",
    "5. Implement Your Project Plan:\n",
    "    * Prepare your data for your model.\n",
    "    * Fit your model to the training data and evaluate your model.\n",
    "    * Improve your model's performance."
   ]
  },
  {
   "cell_type": "markdown",
   "metadata": {},
   "source": [
    "## Part 1: Build Your DataFrame\n",
    "\n",
    "You will have the option to choose one of four data sets that you have worked with in this program:\n",
    "\n",
    "* The \"census\" data set that contains Census information from 1994: `censusData.csv`\n",
    "* Airbnb NYC \"listings\" data set: `airbnbListingsData.csv`\n",
    "* World Happiness Report (WHR) data set: `WHR2018Chapter2OnlineData.csv`\n",
    "* Book Review data set: `bookReviewsData.csv`\n",
    "\n",
    "Note that these are variations of the data sets that you have worked with in this program. For example, some do not include some of the preprocessing necessary for specific models. \n",
    "\n",
    "#### Load a Data Set and Save it as a Pandas DataFrame\n",
    "\n",
    "The code cell below contains filenames (path + filename) for each of the four data sets available to you.\n",
    "\n",
    "<b>Task:</b> In the code cell below, use the same method you have been using to load the data using `pd.read_csv()` and save it to DataFrame `df`. \n",
    "\n",
    "You can load each file as a new DataFrame to inspect the data before choosing your data set."
   ]
  },
  {
   "cell_type": "code",
   "execution_count": 2,
   "metadata": {},
   "outputs": [
    {
     "data": {
      "text/html": [
       "<div>\n",
       "<style scoped>\n",
       "    .dataframe tbody tr th:only-of-type {\n",
       "        vertical-align: middle;\n",
       "    }\n",
       "\n",
       "    .dataframe tbody tr th {\n",
       "        vertical-align: top;\n",
       "    }\n",
       "\n",
       "    .dataframe thead th {\n",
       "        text-align: right;\n",
       "    }\n",
       "</style>\n",
       "<table border=\"1\" class=\"dataframe\">\n",
       "  <thead>\n",
       "    <tr style=\"text-align: right;\">\n",
       "      <th></th>\n",
       "      <th>Review</th>\n",
       "      <th>Positive Review</th>\n",
       "    </tr>\n",
       "  </thead>\n",
       "  <tbody>\n",
       "    <tr>\n",
       "      <th>0</th>\n",
       "      <td>This was perhaps the best of Johannes Steinhof...</td>\n",
       "      <td>True</td>\n",
       "    </tr>\n",
       "    <tr>\n",
       "      <th>1</th>\n",
       "      <td>This very fascinating book is a story written ...</td>\n",
       "      <td>True</td>\n",
       "    </tr>\n",
       "    <tr>\n",
       "      <th>2</th>\n",
       "      <td>The four tales in this collection are beautifu...</td>\n",
       "      <td>True</td>\n",
       "    </tr>\n",
       "    <tr>\n",
       "      <th>3</th>\n",
       "      <td>The book contained more profanity than I expec...</td>\n",
       "      <td>False</td>\n",
       "    </tr>\n",
       "    <tr>\n",
       "      <th>4</th>\n",
       "      <td>We have now entered a second time of deep conc...</td>\n",
       "      <td>True</td>\n",
       "    </tr>\n",
       "  </tbody>\n",
       "</table>\n",
       "</div>"
      ],
      "text/plain": [
       "                                              Review  Positive Review\n",
       "0  This was perhaps the best of Johannes Steinhof...             True\n",
       "1  This very fascinating book is a story written ...             True\n",
       "2  The four tales in this collection are beautifu...             True\n",
       "3  The book contained more profanity than I expec...            False\n",
       "4  We have now entered a second time of deep conc...             True"
      ]
     },
     "execution_count": 2,
     "metadata": {},
     "output_type": "execute_result"
    }
   ],
   "source": [
    "# File names of the four data sets\n",
    "adultDataSet_filename = os.path.join(os.getcwd(), \"data\", \"censusData.csv\")\n",
    "airbnbDataSet_filename = os.path.join(os.getcwd(), \"data\", \"airbnbListingsData.csv\")\n",
    "WHRDataSet_filename = os.path.join(os.getcwd(), \"data\", \"WHR2018Chapter2OnlineData.csv\")\n",
    "bookReviewDataSet_filename = os.path.join(os.getcwd(), \"data\", \"bookReviewsData.csv\")\n",
    "\n",
    "\n",
    "df = pd.read_csv(bookReviewDataSet_filename, header=0)\n",
    "\n",
    "df.head()"
   ]
  },
  {
   "cell_type": "markdown",
   "metadata": {},
   "source": [
    "## Part 2: Define Your ML Problem\n",
    "\n",
    "Next you will formulate your ML Problem. In the markdown cell below, answer the following questions:\n",
    "\n",
    "1. List the data set you have chosen.\n",
    "2. What will you be predicting? What is the label?\n",
    "3. Is this a supervised or unsupervised learning problem? Is this a clustering, classification or regression problem? Is it a binary classificaiton or multi-class classifiction problem?\n",
    "4. What are your features? (note: this list may change after your explore your data)\n",
    "5. Explain why this is an important problem. In other words, how would a company create value with a model that predicts this label?"
   ]
  },
  {
   "cell_type": "markdown",
   "metadata": {},
   "source": [
    "1. The data set that I have chosen is the Book Review Data Set.\n",
    "2. The goal is to predict whether a book review is positive. The label will be the binary variable 'Positive_Review' where a positive review is True and otherwise is False.\n",
    "3. This is a supervised learning problem because it uses a feature to predict a label. It's specifically a binary classification problem because the model will either predict a true or false based on the review it's given. \n",
    "4. The only feature within the data set is the 'Review' feature. After exploring the data, I’ll convert it into numeric features like TF–IDF, n‑grams, review length, punctuation counts, and sentiment scores. \n",
    "5. This is an important problem because automatically spotting positive reviews helps a bookseller see which titles resonate with readers. A company can use this signal to boost popular books in recommendations, plan inventory, focus marketing on high-likelihood hits, and generally increase sales and customer satisfaction."
   ]
  },
  {
   "cell_type": "markdown",
   "metadata": {},
   "source": [
    "## Part 3: Understand Your Data\n",
    "\n",
    "The next step is to perform exploratory data analysis. Inspect and analyze your data set with your machine learning problem in mind. Consider the following as you inspect your data:\n",
    "\n",
    "1. What data preparation techniques would you like to use? These data preparation techniques may include:\n",
    "\n",
    "    * addressing missingness, such as replacing missing values with means\n",
    "    * finding and replacing outliers\n",
    "    * renaming features and labels\n",
    "    * finding and replacing outliers\n",
    "    * performing feature engineering techniques such as one-hot encoding on categorical features\n",
    "    * selecting appropriate features and removing irrelevant features\n",
    "    * performing specific data cleaning and preprocessing techniques for an NLP problem\n",
    "    * addressing class imbalance in your data sample to promote fair AI\n",
    "    \n",
    "\n",
    "2. What machine learning model (or models) you would like to use that is suitable for your predictive problem and data?\n",
    "    * Are there other data preparation techniques that you will need to apply to build a balanced modeling data set for your problem and model? For example, will you need to scale your data?\n",
    " \n",
    " \n",
    "3. How will you evaluate and improve the model's performance?\n",
    "    * Are there specific evaluation metrics and methods that are appropriate for your model?\n",
    "    \n",
    "\n",
    "Think of the different techniques you have used to inspect and analyze your data in this course. These include using Pandas to apply data filters, using the Pandas `describe()` method to get insight into key statistics for each column, using the Pandas `dtypes` property to inspect the data type of each column, and using Matplotlib and Seaborn to detect outliers and visualize relationships between features and labels. If you are working on a classification problem, use techniques you have learned to determine if there is class imbalance.\n",
    "\n",
    "<b>Task</b>: Use the techniques you have learned in this course to inspect and analyze your data. You can import additional packages that you have used in this course that you will need to perform this task.\n",
    "\n",
    "<b>Note</b>: You can add code cells if needed by going to the <b>Insert</b> menu and clicking on <b>Insert Cell Below</b> in the drop-drown menu."
   ]
  },
  {
   "cell_type": "code",
   "execution_count": 3,
   "metadata": {},
   "outputs": [
    {
     "data": {
      "text/html": [
       "<div>\n",
       "<style scoped>\n",
       "    .dataframe tbody tr th:only-of-type {\n",
       "        vertical-align: middle;\n",
       "    }\n",
       "\n",
       "    .dataframe tbody tr th {\n",
       "        vertical-align: top;\n",
       "    }\n",
       "\n",
       "    .dataframe thead th {\n",
       "        text-align: right;\n",
       "    }\n",
       "</style>\n",
       "<table border=\"1\" class=\"dataframe\">\n",
       "  <thead>\n",
       "    <tr style=\"text-align: right;\">\n",
       "      <th></th>\n",
       "      <th>Review</th>\n",
       "      <th>Positive Review</th>\n",
       "    </tr>\n",
       "  </thead>\n",
       "  <tbody>\n",
       "    <tr>\n",
       "      <th>count</th>\n",
       "      <td>1973</td>\n",
       "      <td>1973</td>\n",
       "    </tr>\n",
       "    <tr>\n",
       "      <th>unique</th>\n",
       "      <td>1865</td>\n",
       "      <td>2</td>\n",
       "    </tr>\n",
       "    <tr>\n",
       "      <th>top</th>\n",
       "      <td>I have read several of Hiaasen's books and lov...</td>\n",
       "      <td>False</td>\n",
       "    </tr>\n",
       "    <tr>\n",
       "      <th>freq</th>\n",
       "      <td>3</td>\n",
       "      <td>993</td>\n",
       "    </tr>\n",
       "  </tbody>\n",
       "</table>\n",
       "</div>"
      ],
      "text/plain": [
       "                                                   Review Positive Review\n",
       "count                                                1973            1973\n",
       "unique                                               1865               2\n",
       "top     I have read several of Hiaasen's books and lov...           False\n",
       "freq                                                    3             993"
      ]
     },
     "execution_count": 3,
     "metadata": {},
     "output_type": "execute_result"
    }
   ],
   "source": [
    "df.describe()"
   ]
  },
  {
   "cell_type": "code",
   "execution_count": 4,
   "metadata": {},
   "outputs": [
    {
     "name": "stdout",
     "output_type": "stream",
     "text": [
      "(1973, 2)\n",
      "['Review', 'Positive Review']\n",
      "                                              Review  Positive Review\n",
      "0  This was perhaps the best of Johannes Steinhof...             True\n",
      "1  This very fascinating book is a story written ...             True\n",
      "2  The four tales in this collection are beautifu...             True\n",
      "3  The book contained more profanity than I expec...            False\n",
      "4  We have now entered a second time of deep conc...             True\n",
      "5  I don't know why it won the National Book Awar...            False\n",
      "6  The daughter of a prominent Boston doctor is d...            False\n",
      "7  I was very disapointed in the book.Basicly the...            False\n",
      "8  I think in retrospect I wasted my time on this...            False\n",
      "9  I have a hard time understanding what it is th...            False\n"
     ]
    }
   ],
   "source": [
    "print(df.shape)\n",
    "print(list(df.columns))\n",
    "print(df.head(10))"
   ]
  },
  {
   "cell_type": "code",
   "execution_count": 5,
   "metadata": {},
   "outputs": [
    {
     "name": "stdout",
     "output_type": "stream",
     "text": [
      "object\n",
      "bool\n"
     ]
    }
   ],
   "source": [
    "print(df['Review'].dtype)\n",
    "print(df['Positive Review'].dtype)"
   ]
  },
  {
   "cell_type": "code",
   "execution_count": 6,
   "metadata": {},
   "outputs": [
    {
     "data": {
      "text/plain": [
       "Review             0.0\n",
       "Positive Review    0.0\n",
       "dtype: float64"
      ]
     },
     "execution_count": 6,
     "metadata": {},
     "output_type": "execute_result"
    }
   ],
   "source": [
    "df.isna().mean().sort_values(ascending=False)"
   ]
  },
  {
   "cell_type": "code",
   "execution_count": 7,
   "metadata": {},
   "outputs": [
    {
     "data": {
      "text/plain": [
       "108"
      ]
     },
     "execution_count": 7,
     "metadata": {},
     "output_type": "execute_result"
    }
   ],
   "source": [
    "df.duplicated(subset=['Review']).sum()"
   ]
  },
  {
   "cell_type": "code",
   "execution_count": 8,
   "metadata": {},
   "outputs": [
    {
     "data": {
      "text/plain": [
       "False    0.503294\n",
       "True     0.496706\n",
       "Name: Positive Review, dtype: float64"
      ]
     },
     "execution_count": 8,
     "metadata": {},
     "output_type": "execute_result"
    }
   ],
   "source": [
    "df['Positive Review'].value_counts(normalize=True)"
   ]
  },
  {
   "cell_type": "markdown",
   "metadata": {},
   "source": [
    "## Part 4: Define Your Project Plan\n",
    "\n",
    "Now that you understand your data, in the markdown cell below, define your plan to implement the remaining phases of the machine learning life cycle (data preparation, modeling, evaluation) to solve your ML problem. Answer the following questions:\n",
    "\n",
    "* Do you have a new feature list? If so, what are the features that you chose to keep and remove after inspecting the data? \n",
    "* Explain different data preparation techniques that you will use to prepare your data for modeling.\n",
    "* What is your model (or models)?\n",
    "* Describe your plan to train your model, analyze its performance and then improve the model. That is, describe your model building, validation and selection plan to produce a model that generalizes well to new data. "
   ]
  },
  {
   "cell_type": "markdown",
   "metadata": {},
   "source": [
    "In terms of this data set, I don’t have a new feature list because there’s really only one feature which is the review text. Since the data is already clean, my plan is to label the examples, split into 70/30 train/test sets, and vectorize the text with TF‑IDF. For modeling, I will build a Keras Sequential network with an input layer, three hidden layers, and an output layer. After fitting, I’ll evaluate on the test set using accuracy. But first, I will set up a ParameterGrid over dropout, learning rate, batch size, and epochs, training each combo and recording both ROC AUC and accuracy to find the best trade‑off. Once I identify the top parameters, I’ll retrain the model, plot the ROC curve to visualize AUC, and plot training vs. validation loss and accuracy over epochs to check for overfitting. Finally, I’ll review misclassified reviews, if any, to decide if further preprocessing or architectural tweaks are needed."
   ]
  },
  {
   "cell_type": "markdown",
   "metadata": {},
   "source": [
    "## Part 5: Implement Your Project Plan\n",
    "\n",
    "<b>Task:</b> In the code cell below, import additional packages that you have used in this course that you will need to implement your project plan."
   ]
  },
  {
   "cell_type": "code",
   "execution_count": 10,
   "metadata": {},
   "outputs": [],
   "source": [
    "from sklearn.feature_extraction.text import TfidfVectorizer\n",
    "from sklearn.model_selection import train_test_split, ParameterGrid\n",
    "from sklearn.metrics import roc_auc_score, roc_curve, auc, accuracy_score\n",
    "import tensorflow.keras as keras\n",
    "import time\n",
    "os.environ[\"TF_CPP_MIN_LOG_LEVEL\"] = \"2\""
   ]
  },
  {
   "cell_type": "markdown",
   "metadata": {},
   "source": [
    "<b>Task:</b> Use the rest of this notebook to carry out your project plan. \n",
    "\n",
    "You will:\n",
    "\n",
    "1. Prepare your data for your model.\n",
    "2. Fit your model to the training data and evaluate your model.\n",
    "3. Improve your model's performance by performing model selection and/or feature selection techniques to find best model for your problem.\n",
    "\n",
    "Add code cells below and populate the notebook with commentary, code, analyses, results, and figures as you see fit. "
   ]
  },
  {
   "cell_type": "markdown",
   "metadata": {},
   "source": [
    "First, I will be creating labeled examples and splitting them intro training and test data sets."
   ]
  },
  {
   "cell_type": "code",
   "execution_count": 11,
   "metadata": {},
   "outputs": [],
   "source": [
    "#I will now create the labeled examples from the data set\n",
    "X = df['Review']\n",
    "y = df['Positive Review']"
   ]
  },
  {
   "cell_type": "code",
   "execution_count": 12,
   "metadata": {},
   "outputs": [],
   "source": [
    "#These will be the training and test data sets\n",
    "X_train, X_test, y_train, y_test = train_test_split(X, y, test_size=0.3, random_state=1234)"
   ]
  },
  {
   "cell_type": "code",
   "execution_count": 13,
   "metadata": {},
   "outputs": [
    {
     "name": "stdout",
     "output_type": "stream",
     "text": [
      "(1381,)\n",
      "(592,)\n",
      "(1381,)\n",
      "(592,)\n"
     ]
    }
   ],
   "source": [
    "#Here is the information of the test and data sets\n",
    "print(X_train.shape)\n",
    "print(X_test.shape)\n",
    "print(y_train.shape)\n",
    "print(y_test.shape)"
   ]
  },
  {
   "cell_type": "markdown",
   "metadata": {},
   "source": [
    "Next, I will be setting up the ParameterGrid with all the hyper-parameters that I want to cycle through and record the AUC and accuracy scores that each combination gives within a list called results."
   ]
  },
  {
   "cell_type": "code",
   "execution_count": 14,
   "metadata": {},
   "outputs": [],
   "source": [
    "param_grid = {\n",
    "    \"dropout\": [0.2, 0.3],\n",
    "    \"lr\": [0.1, 0.01],\n",
    "    \"batch_size\": [32, 64],\n",
    "    \"epochs\": [10, 20]\n",
    "}\n",
    "\n",
    "#These variables will store the best auc score and accuracy score\n",
    "results = []"
   ]
  },
  {
   "cell_type": "markdown",
   "metadata": {},
   "source": [
    "In the next code block I loop over the grid of hyper‑parameter combinations. For each set, I first vectorize the review text with TF‑IDF, then build and compile a Keras neural network using those parameters. After training, I capture both the ROC AUC and accuracy for that model. By comparing results across the grid, I can pinpoint which hyper‑parameter combination delivers the best balance of AUC and accuracy."
   ]
  },
  {
   "cell_type": "code",
   "execution_count": 17,
   "metadata": {},
   "outputs": [
    {
     "name": "stdout",
     "output_type": "stream",
     "text": [
      "{'batch_size': 32, 'dropout': 0.2, 'epochs': 10, 'lr': 0.1} → AUC=0.872, Acc=0.522, time=2.2s\n",
      "{'batch_size': 32, 'dropout': 0.2, 'epochs': 10, 'lr': 0.01} → AUC=0.586, Acc=0.483, time=2.1s\n",
      "{'batch_size': 32, 'dropout': 0.2, 'epochs': 20, 'lr': 0.1} → AUC=0.919, Acc=0.534, time=3.6s\n",
      "{'batch_size': 32, 'dropout': 0.2, 'epochs': 20, 'lr': 0.01} → AUC=0.594, Acc=0.483, time=3.5s\n",
      "{'batch_size': 32, 'dropout': 0.3, 'epochs': 10, 'lr': 0.1} → AUC=0.861, Acc=0.483, time=2.1s\n",
      "{'batch_size': 32, 'dropout': 0.3, 'epochs': 10, 'lr': 0.01} → AUC=0.541, Acc=0.483, time=2.1s\n",
      "{'batch_size': 32, 'dropout': 0.3, 'epochs': 20, 'lr': 0.1} → AUC=0.910, Acc=0.823, time=3.5s\n",
      "{'batch_size': 32, 'dropout': 0.3, 'epochs': 20, 'lr': 0.01} → AUC=0.609, Acc=0.483, time=3.5s\n",
      "{'batch_size': 64, 'dropout': 0.2, 'epochs': 10, 'lr': 0.1} → AUC=0.773, Acc=0.483, time=1.8s\n",
      "{'batch_size': 64, 'dropout': 0.2, 'epochs': 10, 'lr': 0.01} → AUC=0.600, Acc=0.483, time=1.8s\n",
      "{'batch_size': 64, 'dropout': 0.2, 'epochs': 20, 'lr': 0.1} → AUC=0.893, Acc=0.573, time=3.2s\n",
      "{'batch_size': 64, 'dropout': 0.2, 'epochs': 20, 'lr': 0.01} → AUC=0.556, Acc=0.483, time=3.2s\n",
      "{'batch_size': 64, 'dropout': 0.3, 'epochs': 10, 'lr': 0.1} → AUC=0.713, Acc=0.483, time=2.4s\n",
      "{'batch_size': 64, 'dropout': 0.3, 'epochs': 10, 'lr': 0.01} → AUC=0.535, Acc=0.483, time=2.0s\n",
      "{'batch_size': 64, 'dropout': 0.3, 'epochs': 20, 'lr': 0.1} → AUC=0.874, Acc=0.676, time=3.2s\n",
      "{'batch_size': 64, 'dropout': 0.3, 'epochs': 20, 'lr': 0.01} → AUC=0.538, Acc=0.483, time=2.9s\n",
      "\n",
      "Top combos by AUC:\n",
      "    batch_size  dropout  epochs   lr       AUC  Accuracy   Time(s)\n",
      "3           32      0.2      20  0.1  0.918838  0.533784  3.558267\n",
      "7           32      0.3      20  0.1  0.910496  0.822635  3.467176\n",
      "11          64      0.2      20  0.1  0.892865  0.572635  3.162871\n",
      "0           32      0.2      10  0.1  0.892134  0.660473  2.135184\n",
      "15          64      0.3      20  0.1  0.873589  0.675676  3.202312\n",
      "\n",
      "Top combos by Accuracy:\n",
      "    batch_size  dropout  epochs   lr       AUC  Accuracy   Time(s)\n",
      "7           32      0.3      20  0.1  0.910496  0.822635  3.467176\n",
      "15          64      0.3      20  0.1  0.873589  0.675676  3.202312\n",
      "0           32      0.2      10  0.1  0.892134  0.660473  2.135184\n",
      "11          64      0.2      20  0.1  0.892865  0.572635  3.162871\n",
      "3           32      0.2      20  0.1  0.918838  0.533784  3.558267\n"
     ]
    }
   ],
   "source": [
    "for params in ParameterGrid(param_grid):\n",
    "    #I implement the TF-IDF vectorizer first\n",
    "    tfidf_vectorizer = TfidfVectorizer(ngram_range=(1,2), min_df=5)\n",
    "    tfidf_vectorizer.fit(X_train)\n",
    "    X_train_tfidf = tfidf_vectorizer.transform(X_train)\n",
    "    X_test_tfidf = tfidf_vectorizer.transform(X_test)\n",
    "    \n",
    "    vocabulary_size = len(tfidf_vectorizer.vocabulary_)\n",
    "\n",
    "    #Building the Nueral Network\n",
    "    nn_model = keras.Sequential()\n",
    "\n",
    "    # Input & dropout\n",
    "    input_layer = keras.layers.InputLayer(input_shape=vocabulary_size)\n",
    "    nn_model.add(input_layer)\n",
    "    nn_model.add(keras.layers.Dropout(params[\"dropout\"]))\n",
    "\n",
    "    # Hidden layer 1\n",
    "    hidden_layer_1 = keras.layers.Dense(units=256, activation='relu')\n",
    "    nn_model.add(hidden_layer_1)\n",
    "    nn_model.add(keras.layers.Dropout(params[\"dropout\"]))\n",
    "\n",
    "    # Hidden layer 2\n",
    "    hidden_layer_2 = keras.layers.Dense(units=128, activation='relu')\n",
    "    nn_model.add(hidden_layer_2)\n",
    "    nn_model.add(keras.layers.Dropout(params[\"dropout\"]))\n",
    "\n",
    "    # Hidden layer 3\n",
    "    hidden_layer_3 = keras.layers.Dense(units=64, activation='relu')\n",
    "    nn_model.add(hidden_layer_3)\n",
    "    nn_model.add(keras.layers.Dropout(params[\"dropout\"]))\n",
    "\n",
    "    # Output layer\n",
    "    output_layer = keras.layers.Dense(units=1, activation='sigmoid')\n",
    "    nn_model.add(output_layer)\n",
    "    \n",
    "    sgd_optimizer = keras.optimizers.SGD(learning_rate=params[\"lr\"])\n",
    "    loss_fn = keras.losses.BinaryCrossentropy(from_logits=False)\n",
    "    \n",
    "    #Here I compile the model\n",
    "    nn_model.compile(optimizer=sgd_optimizer,loss=loss_fn,metrics=[\"AUC\"])\n",
    "\n",
    "    #This is where I train & time it\n",
    "    t0 = time.time()\n",
    "    nn_model.fit(X_train_tfidf.toarray(), y_train, validation_split=0.2, epochs=params[\"epochs\"], batch_size=params[\"batch_size\"], verbose=0)\n",
    "    elapsed = time.time() - t0\n",
    "\n",
    "    #This is where I evaluate on the test set\n",
    "    y_proba = nn_model.predict(X_test_tfidf.toarray()).ravel()\n",
    "    y_pred  = (y_proba >= 0.5).astype(int)\n",
    "    auc_score = roc_auc_score(y_test, y_proba)\n",
    "    acc_score = accuracy_score(y_test, y_pred)\n",
    "\n",
    "    results.append({\n",
    "        **params,\n",
    "        \"AUC\":       auc_score,\n",
    "        \"Accuracy\":  acc_score,\n",
    "        \"Time(s)\":   elapsed\n",
    "    })\n",
    "    print(f\"{params} → AUC={auc_score:.3f}, Acc={acc_score:.3f}, time={elapsed:.1f}s\")\n",
    "\n",
    "#I make the list into a data frame in order to see the best combinations\n",
    "df_results = pd.DataFrame(results)\n",
    "\n",
    "print(\"\\nTop combos by AUC:\")\n",
    "print(df_results.sort_values(\"AUC\", ascending=False).head())\n",
    "\n",
    "print(\"\\nTop combos by Accuracy:\")\n",
    "print(df_results.sort_values(\"Accuracy\", ascending=False).head())"
   ]
  },
  {
   "cell_type": "markdown",
   "metadata": {},
   "source": [
    "The next code block checks which hyper-parameters gave the best scores individually."
   ]
  },
  {
   "cell_type": "code",
   "execution_count": 18,
   "metadata": {},
   "outputs": [
    {
     "name": "stdout",
     "output_type": "stream",
     "text": [
      "Best by AUC:\n",
      "batch_size    32.000000\n",
      "dropout        0.200000\n",
      "epochs        20.000000\n",
      "lr             0.100000\n",
      "AUC            0.918838\n",
      "Accuracy       0.533784\n",
      "Time(s)        3.558267\n",
      "Name: 3, dtype: float64\n",
      "Best by Accuracy:\n",
      "batch_size    32.000000\n",
      "dropout        0.300000\n",
      "epochs        20.000000\n",
      "lr             0.100000\n",
      "AUC            0.910496\n",
      "Accuracy       0.822635\n",
      "Time(s)        3.467176\n",
      "Name: 7, dtype: float64\n"
     ]
    }
   ],
   "source": [
    "best_auc_row = df_results.loc[df_results['AUC'].idxmax()]\n",
    "print(\"Best by AUC:\")\n",
    "print(best_auc_row)\n",
    "\n",
    "best_acc_row = df_results.loc[df_results['Accuracy'].idxmax()]\n",
    "print(\"Best by Accuracy:\")\n",
    "print(best_acc_row)"
   ]
  },
  {
   "cell_type": "markdown",
   "metadata": {},
   "source": [
    "I see that both of my top models used a batch size of 32, a learning rate of 0.1, and ran for 20 epochs. The only tweak was the dropout rate. With dropout = 0.2, I got the highest AUC (0.9188), which means the model ranks positive reviews above negatives most cleanly, but that model's accuracy was just 53.4%. When dropout switched to 0.3, AUC dipped slightly to 0.9105, yet accuracy jumped to 82.3% and all without adding any extra training time. Since I want both accuracy and AUC scores to be high, I’ll go with dropout = 0.3 for reliable predictions."
   ]
  },
  {
   "cell_type": "markdown",
   "metadata": {},
   "source": [
    "These next few code blocks I will be training the best model with the hyper-parameters that gave the best scores above. I will be renaiming each variable with _best at the end of it."
   ]
  },
  {
   "cell_type": "code",
   "execution_count": 19,
   "metadata": {},
   "outputs": [],
   "source": [
    "# 1. Create a TfidfVectorizer object \n",
    "tfidf_vectorizer_best = TfidfVectorizer(ngram_range=(1,2), min_df=5)\n",
    "\n",
    "\n",
    "# 2. Fit the vectorizer to X_train\n",
    "tfidf_vectorizer_best.fit(X_train)\n",
    "\n",
    "\n",
    "# 3. Using the fitted vectorizer, transform the training data \n",
    "X_train_tfidf_best = tfidf_vectorizer_best.transform(X_train)\n",
    "\n",
    "\n",
    "# 4. Using the fitted vectorizer, transform the test data \n",
    "X_test_tfidf_best = tfidf_vectorizer_best.transform(X_test)"
   ]
  },
  {
   "cell_type": "code",
   "execution_count": 20,
   "metadata": {},
   "outputs": [
    {
     "name": "stdout",
     "output_type": "stream",
     "text": [
      "8556\n"
     ]
    }
   ],
   "source": [
    "vocabulary_size2 = len(tfidf_vectorizer_best.vocabulary_)\n",
    "\n",
    "print(vocabulary_size2)"
   ]
  },
  {
   "cell_type": "markdown",
   "metadata": {},
   "source": [
    "This is where I compute the best neural network with dropout = 0.3."
   ]
  },
  {
   "cell_type": "code",
   "execution_count": 21,
   "metadata": {},
   "outputs": [
    {
     "name": "stdout",
     "output_type": "stream",
     "text": [
      "Model: \"sequential_18\"\n",
      "_________________________________________________________________\n",
      "Layer (type)                 Output Shape              Param #   \n",
      "=================================================================\n",
      "dropout_72 (Dropout)         (None, 8556)              0         \n",
      "_________________________________________________________________\n",
      "dense_72 (Dense)             (None, 256)               2190592   \n",
      "_________________________________________________________________\n",
      "dropout_73 (Dropout)         (None, 256)               0         \n",
      "_________________________________________________________________\n",
      "dense_73 (Dense)             (None, 128)               32896     \n",
      "_________________________________________________________________\n",
      "dropout_74 (Dropout)         (None, 128)               0         \n",
      "_________________________________________________________________\n",
      "dense_74 (Dense)             (None, 64)                8256      \n",
      "_________________________________________________________________\n",
      "dropout_75 (Dropout)         (None, 64)                0         \n",
      "_________________________________________________________________\n",
      "dense_75 (Dense)             (None, 1)                 65        \n",
      "=================================================================\n",
      "Total params: 2,231,809\n",
      "Trainable params: 2,231,809\n",
      "Non-trainable params: 0\n",
      "_________________________________________________________________\n"
     ]
    }
   ],
   "source": [
    "# 1. Create model object\n",
    "nn_model_best = keras.Sequential()\n",
    "\n",
    "# 2. Create the input layer and add it to the model object: \n",
    "input_layer = keras.layers.InputLayer(input_shape=vocabulary_size2)\n",
    "nn_model_best.add(input_layer)\n",
    "nn_model_best.add(keras.layers.Dropout(0.3))\n",
    "\n",
    "# 3. Create the first hidden layer and add it to the model object:\n",
    "hidden_layer_1 = keras.layers.Dense(units=256, activation='relu')\n",
    "nn_model_best.add(hidden_layer_1)\n",
    "nn_model_best.add(keras.layers.Dropout(0.3))\n",
    "\n",
    "# 4. Create the second layer and add it to the model object:\n",
    "hidden_layer_2 = keras.layers.Dense(units=128, activation='relu')\n",
    "nn_model_best.add(hidden_layer_2)\n",
    "nn_model_best.add(keras.layers.Dropout(0.3))\n",
    "\n",
    "# 5. Create the third layer and add it to the model object:\n",
    "hidden_layer_3 = keras.layers.Dense(units=64, activation='relu')\n",
    "nn_model_best.add(hidden_layer_3)\n",
    "nn_model_best.add(keras.layers.Dropout(0.3))\n",
    "\n",
    "# 6. Create the output layer and add it to the model object:\n",
    "output_layer = keras.layers.Dense(units=1, activation='sigmoid')\n",
    "nn_model_best.add(output_layer)\n",
    "\n",
    "# Print summary of neural network model structure\n",
    "nn_model_best.summary()"
   ]
  },
  {
   "cell_type": "markdown",
   "metadata": {},
   "source": [
    "Next, I create an optimizer with the learning rate of 0.1, and then create the loss_fn."
   ]
  },
  {
   "cell_type": "code",
   "execution_count": 22,
   "metadata": {},
   "outputs": [],
   "source": [
    "sgd_optimizer = keras.optimizers.SGD(learning_rate=0.1)"
   ]
  },
  {
   "cell_type": "code",
   "execution_count": 23,
   "metadata": {},
   "outputs": [],
   "source": [
    "loss_fn = keras.losses.BinaryCrossentropy(from_logits=False)"
   ]
  },
  {
   "cell_type": "markdown",
   "metadata": {},
   "source": [
    "I finally compile the model and will fit it next."
   ]
  },
  {
   "cell_type": "code",
   "execution_count": 24,
   "metadata": {},
   "outputs": [],
   "source": [
    "nn_model_best.compile(optimizer=sgd_optimizer, loss=loss_fn, metrics=['accuracy','AUC'])"
   ]
  },
  {
   "cell_type": "code",
   "execution_count": 25,
   "metadata": {},
   "outputs": [],
   "source": [
    "class ProgBarLoggerNEpochs(keras.callbacks.Callback):\n",
    "    \n",
    "    def __init__(self, num_epochs: int, every_n: int = 50):\n",
    "        self.num_epochs = num_epochs\n",
    "        self.every_n = every_n\n",
    "    \n",
    "    def on_epoch_end(self, epoch, logs=None):\n",
    "        if (epoch + 1) % self.every_n == 0:\n",
    "            s = 'Epoch [{}/ {}]'.format(epoch + 1, self.num_epochs)\n",
    "            logs_s = ['{}: {:.4f}'.format(k.capitalize(), v)\n",
    "                      for k, v in logs.items()]\n",
    "            s_list = [s] + logs_s\n",
    "            print(', '.join(s_list))\n"
   ]
  },
  {
   "cell_type": "code",
   "execution_count": 26,
   "metadata": {},
   "outputs": [
    {
     "name": "stdout",
     "output_type": "stream",
     "text": [
      "Epoch [5/ 20], Loss: 0.6907, Accuracy: 0.5190, Auc: 0.5421, Val_loss: 0.6914, Val_accuracy: 0.5018, Val_auc: 0.6497\n",
      "Epoch [10/ 20], Loss: 0.6795, Accuracy: 0.5842, Auc: 0.6506, Val_loss: 0.6826, Val_accuracy: 0.7004, Val_auc: 0.8139\n",
      "Epoch [15/ 20], Loss: 0.6186, Accuracy: 0.7074, Auc: 0.7895, Val_loss: 0.6214, Val_accuracy: 0.7365, Val_auc: 0.8951\n",
      "Epoch [20/ 20], Loss: 0.4439, Accuracy: 0.8016, Auc: 0.8835, Val_loss: 0.4454, Val_accuracy: 0.8303, Val_auc: 0.9119\n",
      "Elapsed time: 3.50s\n"
     ]
    }
   ],
   "source": [
    "t0 = time.time() # start time\n",
    "\n",
    "num_epochs = 20 # epochs\n",
    "\n",
    "history = nn_model_best.fit(X_train_tfidf_best.toarray(), y_train, batch_size=32, epochs=20, verbose=0, validation_split=0.2, callbacks=[ProgBarLoggerNEpochs(20, every_n=5)])\n",
    "\n",
    "t1 = time.time() # stop time\n",
    "\n",
    "print('Elapsed time: %.2fs' % (t1-t0))"
   ]
  },
  {
   "cell_type": "markdown",
   "metadata": {},
   "source": [
    "With the model being fit, I can then move on to making predictions. I am also going to compute the roc_curve and plot it."
   ]
  },
  {
   "cell_type": "code",
   "execution_count": 27,
   "metadata": {},
   "outputs": [],
   "source": [
    "y_proba = nn_model_best.predict(X_test_tfidf_best.toarray()).ravel()"
   ]
  },
  {
   "cell_type": "code",
   "execution_count": 28,
   "metadata": {},
   "outputs": [],
   "source": [
    "fpr, tpr, _   = roc_curve(y_test, y_proba)\n",
    "roc_auc_value = auc(fpr, tpr)"
   ]
  },
  {
   "cell_type": "code",
   "execution_count": 29,
   "metadata": {},
   "outputs": [
    {
     "data": {
      "image/png": "[encoded data removed]",
      "text/plain": [
       "<Figure size 700x500 with 1 Axes>"
      ]
     },
     "metadata": {},
     "output_type": "display_data"
    }
   ],
   "source": [
    "plt.figure(figsize=(7,5))\n",
    "plt.plot(fpr, tpr, label=f\"ROC (AUC = {roc_auc_value:.3f})\")\n",
    "plt.plot([0,1],[0,1],\"--\", c=\"gray\", label=\"Random chance\")\n",
    "plt.xlabel(\"False Positive Rate\")\n",
    "plt.ylabel(\"True Positive Rate\")\n",
    "plt.title(\"ROC Curve\")\n",
    "plt.legend(loc=\"lower right\")\n",
    "plt.grid(True)\n",
    "plt.show()"
   ]
  },
  {
   "cell_type": "markdown",
   "metadata": {},
   "source": [
    "When I look at this ROC curve, the first thing I notice is how steeply it rises toward the top‑left corner. The model captures a high true positive rate with very few false positives. The curve then gently arcs up to near-perfect performance as it approaches an FPR of 1, giving an overall AUC of 0.919. In simple terms, that means if I randomly pick one positive review and one negative review, there’s about a 92% chance my model will score the positive review higher. The fact that this line hugs the top and left edges so closely shows strong discrimination. I can catch a large fraction of positive reviews while only misclassifying a few negatives. Overall, seeing AUC = 0.92 confirms the model is doing a great job separating positive and negative reviews, and now it’s just a matter of seeing if it actually does based on the accuracy the model is giving."
   ]
  },
  {
   "cell_type": "code",
   "execution_count": 30,
   "metadata": {},
   "outputs": [
    {
     "data": {
      "text/plain": [
       "dict_keys(['loss', 'accuracy', 'auc', 'val_loss', 'val_accuracy', 'val_auc'])"
      ]
     },
     "execution_count": 30,
     "metadata": {},
     "output_type": "execute_result"
    }
   ],
   "source": [
    "history.history.keys()"
   ]
  },
  {
   "cell_type": "markdown",
   "metadata": {},
   "source": [
    "Next, I will be plotting the training and validation loss as well as the training and validation accuracy to see how the model is doing."
   ]
  },
  {
   "cell_type": "code",
   "execution_count": 31,
   "metadata": {},
   "outputs": [
    {
     "data": {
      "image/png": "[encoded data removed]",
      "text/plain": [
       "<Figure size 640x480 with 1 Axes>"
      ]
     },
     "metadata": {},
     "output_type": "display_data"
    },
    {
     "data": {
      "image/png": "[encoded data removed]",
      "text/plain": [
       "<Figure size 640x480 with 1 Axes>"
      ]
     },
     "metadata": {},
     "output_type": "display_data"
    }
   ],
   "source": [
    "# Plot training and validation loss\n",
    "plt.plot(range(1, num_epochs + 1), history.history['loss'], label='Training Loss')\n",
    "plt.plot(range(1, num_epochs + 1), history.history['val_loss'], label='Validation Loss')\n",
    "\n",
    "plt.xlabel('Epoch')\n",
    "plt.ylabel('Loss')\n",
    "plt.legend()\n",
    "plt.show()\n",
    "\n",
    "\n",
    "# Plot training and validation accuracy\n",
    "plt.plot(range(1, num_epochs + 1), history.history['accuracy'], label='Training Accuracy')\n",
    "plt.plot(range(1, num_epochs + 1), history.history['val_accuracy'], label='Validation Accuracy')\n",
    "\n",
    "plt.xlabel('Epoch')\n",
    "plt.ylabel('Accuracy')\n",
    "plt.legend()\n",
    "plt.show()"
   ]
  },
  {
   "cell_type": "markdown",
   "metadata": {},
   "source": [
    "When I stare at these curves, the first thing I notice is how closely the training and validation loss track each other until about epoch 12. They both start around 0.70 and slowly drift down to about 0.60 by mid‑training, which tells me the model is learning without overfitting too early. After epoch 12, the training loss continues its steady decline down toward 0.45, while the validation loss dips as well but then briefly spikes around epoch 18 before settling back, hinting at a little noise or over‑adaptation on the small validation split. \n",
    "\n",
    "On the accuracy side, training accuracy climbs nicely from 51% up to 80% by epoch 20, and validation accuracy follows the same upward trend. It is just bouncing more erratically between 50% and 77% before finishing around 82–83%. That volatility on the validation curve is expected with dropout, but the overall upward swing confirms my model is genuinely learning patterns in the reviews. In short, the parallel drop in loss and rise in accuracy on both curves shows healthy learning. The occasional validation noise suggest I could use a more stable cross‑validation scheme, but right now the model is converging well."
   ]
  },
  {
   "cell_type": "code",
   "execution_count": 32,
   "metadata": {},
   "outputs": [
    {
     "name": "stdout",
     "output_type": "stream",
     "text": [
      "19/19 [==============================] - 0s 2ms/step - loss: 0.4361 - accuracy: 0.8345 - auc: 0.9191\n",
      "Loss:  0.4360584020614624 Accuracy:  0.8344594836235046\n"
     ]
    }
   ],
   "source": [
    "loss, accuracy, auc = nn_model_best.evaluate(X_test_tfidf_best.toarray(), y_test)\n",
    "\n",
    "print('Loss: ', str(loss) , 'Accuracy: ', str(accuracy))"
   ]
  },
  {
   "cell_type": "markdown",
   "metadata": {},
   "source": [
    "After evaluating the model and making sure everything is looking good, it's time to make predictions on the test set."
   ]
  },
  {
   "cell_type": "code",
   "execution_count": 33,
   "metadata": {},
   "outputs": [
    {
     "name": "stdout",
     "output_type": "stream",
     "text": [
      "Predictions for the first 20 examples:\n",
      "[0.63825226] False\n",
      "[0.75820935] True\n",
      "[0.70654255] True\n",
      "[0.8099338] True\n",
      "[0.75634086] True\n",
      "[0.6185565] True\n",
      "[0.6396172] True\n",
      "[0.6794306] True\n",
      "[0.64318466] True\n",
      "[0.61434937] True\n",
      "[0.63323903] True\n"
     ]
    }
   ],
   "source": [
    "# Make predictions on the test set\n",
    "probability_predictions = nn_model_best.predict(X_test_tfidf.toarray())\n",
    "labels = y_test.to_numpy()\n",
    "\n",
    "print(\"Predictions for the first 20 examples:\")\n",
    "for i, prob in enumerate(probability_predictions[:20]):\n",
    "    if prob > 0.5:\n",
    "        print(prob, labels[i])"
   ]
  },
  {
   "cell_type": "code",
   "execution_count": 34,
   "metadata": {},
   "outputs": [
    {
     "name": "stdout",
     "output_type": "stream",
     "text": [
      "Review #1:\n",
      "\n",
      "Thriller and mystery readers like to guess along with our protagonists when we're reading a story.  We like to look for clues in what we've read to help us unravel the plot, and find out who did it and why the crime was done.\n",
      "\n",
      "John Grisham cheats us out of that fun.  The villian of this book isn't introduced until there less than 75 pages left, which means that when you get that far, you realize that everything you read before then wasn't valid. To have some red herrings in a thriller is fine, but to have 300 pages of chases and red herrings?  That's bad.\n",
      "\n",
      "Read another thriller instead of this one, one that plays by the rules\n",
      "\n",
      "\n",
      "Prediction: Is this a good review? False\n",
      "\n",
      "Actual: Is this a good review? False\n",
      "\n"
     ]
    }
   ],
   "source": [
    "print('Review #1:\\n')\n",
    "\n",
    "print(X_test.to_numpy()[11])\n",
    "\n",
    "goodReview = True if probability_predictions[11] >= .5 else False\n",
    "    \n",
    "print('\\nPrediction: Is this a good review? {}\\n'.format(goodReview))\n",
    "\n",
    "print('Actual: Is this a good review? {}\\n'.format(y_test.to_numpy()[11]))"
   ]
  },
  {
   "cell_type": "code",
   "execution_count": 35,
   "metadata": {},
   "outputs": [
    {
     "name": "stdout",
     "output_type": "stream",
     "text": [
      "Review #2:\n",
      "\n",
      "I have read Baldacci's first four novels and have immensely enjoyed all of them.  This one, however, is just awful.  Not only the character's dialogue but even the story itself is written like a really bad detective movie.  The only thing I can think of to compare it to is this :  There was a series of Calvin and Hobbes cartoons where Calvin imagines himself as a private detective and they are written like the old detective shows, with lame lines like \"The gun was loaded, and so was I\".  That is exactly what this book is like, except it goes on for 400 pages.  There isn't a single interesting character in this book, in my opinion.  You just have to slog your way through the book to get to the end.  It's the Bataan Death March of novels.  I hope this is an aberration - I'll certainly give him another try since the first four novels that I read were so good.  But one more stinker like this one and I'll drop his name from my reading list\n",
      "\n",
      "\n",
      "Prediction: Is this a good review? False\n",
      "\n",
      "Actual: Is this a good review? False\n",
      "\n"
     ]
    }
   ],
   "source": [
    "print('Review #2:\\n')\n",
    "\n",
    "print(X_test.to_numpy()[24])\n",
    "\n",
    "goodReview = True if probability_predictions[24] >= .5 else False\n",
    "\n",
    "print('\\nPrediction: Is this a good review? {}\\n'.format(goodReview)) \n",
    "\n",
    "print('Actual: Is this a good review? {}\\n'.format(y_test.to_numpy()[24]))"
   ]
  },
  {
   "cell_type": "code",
   "execution_count": 160,
   "metadata": {},
   "outputs": [
    {
     "name": "stdout",
     "output_type": "stream",
     "text": [
      "Review #3:\n",
      "\n",
      "This commentary has many tremendous insights into the book of Romans.  Romans is one of the richest resources of truth within the Bible and John Stoot does a good job of unpacking it.  The book is written from a framework of the reader having a strong prior understanding of the Scriptures.  It is probably not considered a highly scholarly work, but it is not for the average reader to pick up for light reading either\n",
      "\n",
      "\n",
      "Prediction: Is this a good review? True\n",
      "\n",
      "Actual: Is this a good review? True\n",
      "\n"
     ]
    }
   ],
   "source": [
    "print('Review #3:\\n')\n",
    "\n",
    "print(X_test.to_numpy()[56])\n",
    "\n",
    "goodReview = True if probability_predictions[56] >= .5 else False\n",
    "    \n",
    "print('\\nPrediction: Is this a good review? {}\\n'.format(goodReview))\n",
    "\n",
    "print('Actual: Is this a good review? {}\\n'.format(y_test.to_numpy()[56]))"
   ]
  },
  {
   "cell_type": "code",
   "execution_count": 36,
   "metadata": {},
   "outputs": [
    {
     "name": "stdout",
     "output_type": "stream",
     "text": [
      "Review #4:\n",
      "\n",
      "With astute attention to the details of character, setting and daily life, Susan Kelly illuminates the ordinary. Pondering love, memory, faith,and responsiblity, Kelly transforms the everyday into the quintessential. This is a beautifully rendered story\n",
      "\n",
      "\n",
      "Prediction: Is this a good review? True\n",
      "\n",
      "Actual: Is this a good review? True\n",
      "\n"
     ]
    }
   ],
   "source": [
    "print('Review #4:\\n')\n",
    "print(X_test.to_numpy()[102])\n",
    "\n",
    "goodReview = True if probability_predictions[102] >= .5 else False\n",
    "    \n",
    "print('\\nPrediction: Is this a good review? {}\\n'.format(goodReview))\n",
    "\n",
    "print('Actual: Is this a good review? {}\\n'.format(y_test.to_numpy()[102]))"
   ]
  },
  {
   "cell_type": "code",
   "execution_count": 37,
   "metadata": {},
   "outputs": [
    {
     "name": "stdout",
     "output_type": "stream",
     "text": [
      "Review #5:\n",
      "\n",
      "A few years ago, I had the pleasure of meeting Pam Munoz Ryan at a Summer Arts Children's Storytelling Forum held at California State University - Fresno.  She read the book to parents, teachers, and students who attended the conference.  I was amazed on the writing, culture, and illustrations that she used for this book.  The novel serves as a tale of her childhood spending time with her family at her grandmother's house.  Overall, the story teaches children the value of traditions, family, and heritage.  In short, \"Mice and Beans\" is a good book to read\n",
      "\n",
      "\n",
      "Prediction: Is this a good review? True\n",
      "\n",
      "Actual: Is this a good review? True\n",
      "\n"
     ]
    }
   ],
   "source": [
    "print('Review #5:\\n')\n",
    "print(X_test.to_numpy()[202])\n",
    "\n",
    "goodReview = True if probability_predictions[102] >= .5 else False\n",
    "    \n",
    "print('\\nPrediction: Is this a good review? {}\\n'.format(goodReview))\n",
    "\n",
    "print('Actual: Is this a good review? {}\\n'.format(y_test.to_numpy()[202]))"
   ]
  },
  {
   "cell_type": "markdown",
   "metadata": {},
   "source": [
    "When I manually checked five test reviews, the model correctly flagged each one as positive or not, which is really encouraging. Using a ParameterGrid to loop through different hyperparameter combinations made tuning straightforward since I could compare each setup’s accuracy and pinpoint the optimal configuration. Plotting the ROC curve then confirmed that this model not only achieves high accuracy at a chosen threshold, but also maintains strong discrimination (AUC) across all thresholds. This strategy that I chose gave me confidence that I’ve built a solid classifier for positive reviews."
   ]
  }
 ],
 "metadata": {
  "kernelspec": {
   "display_name": "Python 3 (ipykernel)",
   "language": "python",
   "name": "python3"
  },
  "language_info": {
   "codemirror_mode": {
    "name": "ipython",
    "version": 3
   },
   "file_extension": ".py",
   "mimetype": "text/x-python",
   "name": "python",
   "nbconvert_exporter": "python",
   "pygments_lexer": "ipython3",
   "version": "3.9.19"
  },
  "toc": {
   "base_numbering": 1,
   "nav_menu": {},
   "number_sections": false,
   "sideBar": true,
   "skip_h1_title": false,
   "title_cell": "Table of Contents",
   "title_sidebar": "Contents",
   "toc_cell": false,
   "toc_position": {},
   "toc_section_display": true,
   "toc_window_display": false
  },
  "varInspector": {
   "cols": {
    "lenName": 16,
    "lenType": 16,
    "lenVar": 40
   },
   "kernels_config": {
    "python": {
     "delete_cmd_postfix": "",
     "delete_cmd_prefix": "del ",
     "library": "var_list.py",
     "varRefreshCmd": "print(var_dic_list())"
    },
    "r": {
     "delete_cmd_postfix": ") ",
     "delete_cmd_prefix": "rm(",
     "library": "var_list.r",
     "varRefreshCmd": "cat(var_dic_list()) "
    }
   },
   "types_to_exclude": [
    "module",
    "function",
    "builtin_function_or_method",
    "instance",
    "_Feature"
   ],
   "window_display": false
  }
 },
 "nbformat": 4,
 "nbformat_minor": 4
}
